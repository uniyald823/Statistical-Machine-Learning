{
 "cells": [
  {
   "cell_type": "code",
   "execution_count": 1,
   "id": "c5009bf9",
   "metadata": {},
   "outputs": [
    {
     "name": "stdout",
     "output_type": "stream",
     "text": [
      "(100, 100)\n"
     ]
    }
   ],
   "source": [
    "from PIL import Image\n",
    "\n",
    "# Open the image\n",
    "img = Image.open('D:/SML_Train/Train_0.jpg')\n",
    "\n",
    "# Get the dimensions of the image\n",
    "width, height = img.size\n",
    "newsize=(100,100)\n",
    "im1 = img.resize(newsize)\n",
    "print(im1.size)"
   ]
  },
  {
   "cell_type": "code",
   "execution_count": 30,
   "id": "d00feec8",
   "metadata": {},
   "outputs": [],
   "source": [
    "import numpy as np\n",
    "import os\n",
    "from tensorflow.keras.applications import MobileNetV2\n",
    "from keras.utils import to_categorical\n",
    "import os\n",
    "import glob\n",
    "import zipfile\n",
    "import seaborn as sb\n",
    "import numpy as np # linear algebra\n",
    "import pandas as pd # data processing \n",
    "from PIL import Image\n",
    "from tensorflow.keras.callbacks import EarlyStopping,ModelCheckpoint\n",
    "from keras.utils import to_categorical\n",
    "from sklearn.model_selection import train_test_split\n",
    "import matplotlib.pyplot as plt\n",
    "from keras.models import Model,Sequential\n",
    "from keras.layers import Conv2D, GlobalAveragePooling2D, Dropout, Flatten, Dense, Activation,GlobalMaxPooling2D\n",
    "from tensorflow.keras.applications.resnet50 import ResNet50,preprocess_input\n",
    "from sklearn.metrics import confusion_matrix,classification_report\n",
    "from keras.optimizers import Adam\n",
    "import os\n",
    "import numpy as np\n",
    "import pandas as pd\n",
    "from keras.applications.vgg19 import VGG19\n",
    "from keras.models import Model\n",
    "from keras.layers import Dense,GlobalAveragePooling2D\n",
    "from keras.applications.vgg16 import VGG16\n",
    "from keras.preprocessing import image\n",
    "from keras.applications.vgg16 import preprocess_input\n",
    "from PIL import Image\n",
    "from tensorflow.keras.models import load_model\n",
    "from sklearn.metrics import confusion_matrix\n",
    "import seaborn as sn; sn.set(font_scale=1.4)\n",
    "from sklearn.utils import shuffle           \n",
    "import matplotlib.pyplot as plt             \n",
    "import cv2                                 \n",
    "import tensorflow as tf      \n",
    "import numpy as np \n",
    "import pandas as pd\n",
    "from sklearn.neighbors import KNeighborsClassifier\n",
    "from sklearn.metrics import accuracy_score,confusion_matrix\n",
    "from tensorflow import keras\n",
    "from tensorflow.keras import layers\n",
    "import numpy as np # linear algebra\n",
    "import pandas as pd # data processing, CSV file I/O (e.g. pd.read_csv)\n",
    "import tensorflow as tf\n",
    "from keras.layers import Dense,Dropout\n",
    "from keras.models import Model \n",
    "import matplotlib.pyplot as plt\n",
    "import tensorflow as tf\n",
    "import tensorflow_hub as hub\n",
    "import matplotlib.pylab as plt\n",
    "import numpy as np\n",
    "from keras.layers import Dense, GlobalAveragePooling2D, Dropout, Input, AveragePooling2D, Flatten,Conv2D,MaxPooling2D\n",
    "from keras.optimizers import Adam\n",
    "from tensorflow.keras.models import Sequential\n",
    "from tensorflow.keras.layers import Conv2D, MaxPool2D, BatchNormalization\n",
    "from keras.callbacks import Callback,ModelCheckpoint, ReduceLROnPlateau, EarlyStopping\n",
    "import matplotlib.pyplot as plt\n",
    "import seaborn as sns\n",
    "from tqdm import tqdm"
   ]
  },
  {
   "cell_type": "code",
   "execution_count": 3,
   "id": "32297585",
   "metadata": {},
   "outputs": [],
   "source": [
    "IMAGE_SIZE = (100,100)\n",
    "BATCH_SIZE = 128"
   ]
  },
  {
   "cell_type": "code",
   "execution_count": 4,
   "id": "58637c40",
   "metadata": {},
   "outputs": [],
   "source": [
    "# from tensorflow.keras.preprocessing.image import ImageDataGenerator\n",
    "\n",
    "# def load_data():\n",
    "#     \"\"\"\n",
    "#         Load the data:\n",
    "#             - 14,034 images to train the network.\n",
    "#             - 3,000 images to evaluate how accurately the network learned to classify images.\n",
    "#     \"\"\"\n",
    "    \n",
    "#     dataset = 'D:/SML_Train/'\n",
    "#     labels_df = pd.read_csv('C:/Users/HP/Downloads/SML_Train.csv')\n",
    "#     labels_df['category'] = labels_df['category'].astype(str)\n",
    "#     class_names = sorted(list(set(labels_df['category'])))\n",
    "#     class_names_label = {class_name:i for i, class_name in enumerate(class_names)}\n",
    "    \n",
    "#     train_datagen = ImageDataGenerator(\n",
    "#         rescale=1./255,\n",
    "#         rotation_range=20,\n",
    "#         width_shift_range=0.1,\n",
    "#         height_shift_range=0.1,\n",
    "#         shear_range=0.2,\n",
    "#         zoom_range=0.2,\n",
    "#         horizontal_flip=True,\n",
    "#         fill_mode='nearest'\n",
    "#     )\n",
    "    \n",
    "#     train_generator = train_datagen.flow_from_dataframe(\n",
    "#         dataframe=labels_df,\n",
    "#         directory=dataset,\n",
    "#         x_col='id',\n",
    "#         y_col='category',\n",
    "#         target_size=IMAGE_SIZE,\n",
    "#         batch_size=BATCH_SIZE,\n",
    "#         class_mode='categorical',\n",
    "#         shuffle=True,\n",
    "#         seed=42\n",
    "#     )\n",
    "    \n",
    "#     return train_generator, class_names_label\n",
    "\n"
   ]
  },
  {
   "cell_type": "code",
   "execution_count": 5,
   "id": "22b5a5c2",
   "metadata": {},
   "outputs": [],
   "source": [
    "# (train_images, train_labels) = load_data()"
   ]
  },
  {
   "cell_type": "markdown",
   "id": "81d16276",
   "metadata": {},
   "source": [
    "## Loading the Dataset and pre-processing"
   ]
  },
  {
   "cell_type": "code",
   "execution_count": 6,
   "id": "2acff5c0",
   "metadata": {},
   "outputs": [],
   "source": [
    "# Load the CSV file into a Pandas dataframe\n",
    "labels_df = pd.read_csv('C:/Users/HP/Downloads/SML_Train.csv')\n",
    "\n",
    "# Create empty lists to store the images and labels\n",
    "images = []\n",
    "labels = []\n",
    "\n",
    "# Loop through each row in the dataframe\n",
    "for index, row in labels_df.iterrows():\n",
    "    # Load the image and convert it to a NumPy array\n",
    "    image = Image.open(f'D:/SML_Train/{row[\"id\"]}')\n",
    "    newsize=(100,100)\n",
    "    image = image.resize(newsize)\n",
    "    image_array = np.array(image)\n",
    "    # Append the image and label to their respective lists\n",
    "    images.append(image_array)\n",
    "    labels.append(row['category'])\n",
    "\n",
    "# Convert the lists to NumPy arrays\n",
    "images = np.array(images)\n",
    "labels = np.array(labels)\n",
    "\n",
    "def load_data():\n",
    "    \"\"\"\n",
    "        Load the data:\n",
    "            - 14,034 images to train the network.\n",
    "            - 3,000 images to evaluate how accurately the network learned to classify images.\n",
    "    \"\"\"\n",
    "    \n",
    "    dataset = 'D:/SML_Train/'\n",
    "    labels_df = pd.read_csv('C:/Users/HP/Downloads/SML_Train.csv')\n",
    "    class_names = sorted(list(set(labels_df['category'])))\n",
    "    class_names_label = {class_name:i for i, class_name in enumerate(class_names)}\n",
    "    \n",
    "    images = []\n",
    "    labels = []\n",
    "        \n",
    "    print(\"Loading {}\".format(dataset))\n",
    "        \n",
    "    # Iterate through each image in our folder\n",
    "    for file in tqdm(os.listdir(dataset)):\n",
    "                \n",
    "        # Get the path name of the image\n",
    "        img_path = os.path.join(dataset, file)\n",
    "                \n",
    "        # Open and resize the img\n",
    "        image = cv2.imread(img_path)\n",
    "        image = cv2.cvtColor(image, cv2.COLOR_BGR2RGB)\n",
    "        image = cv2.resize(image, IMAGE_SIZE) \n",
    "                \n",
    "        # Get the label of the image\n",
    "        label = labels_df.loc[labels_df['id'] == file, 'category'].iloc[0]\n",
    "        label = class_names_label[label]\n",
    "                \n",
    "        # Append the image and its corresponding label to the output\n",
    "        images.append(image)\n",
    "        labels.append(label)\n",
    "                \n",
    "    images = np.array(images, dtype='float32')\n",
    "    labels = np.array(labels, dtype='int32')   \n",
    "    \n",
    "    return images, labels\n"
   ]
  },
  {
   "cell_type": "code",
   "execution_count": 7,
   "id": "4ffc5738",
   "metadata": {
    "scrolled": true
   },
   "outputs": [
    {
     "name": "stdout",
     "output_type": "stream",
     "text": [
      "Loading D:/SML_Train/\n"
     ]
    },
    {
     "name": "stderr",
     "output_type": "stream",
     "text": [
      "100%|███████████████████████████████████████████████████████████████████████████| 16000/16000 [01:02<00:00, 255.59it/s]\n"
     ]
    }
   ],
   "source": [
    "(train_images, train_labels) = load_data()"
   ]
  },
  {
   "cell_type": "code",
   "execution_count": null,
   "id": "d580dbac",
   "metadata": {},
   "outputs": [],
   "source": []
  },
  {
   "cell_type": "code",
   "execution_count": 10,
   "id": "0717ccc9",
   "metadata": {},
   "outputs": [],
   "source": [
    "#train_images, train_labels = shuffle(train_images, train_labels, random_state=50)"
   ]
  },
  {
   "cell_type": "code",
   "execution_count": 8,
   "id": "fc0aa6fe",
   "metadata": {},
   "outputs": [
    {
     "name": "stdout",
     "output_type": "stream",
     "text": [
      "Number of training examples: 16000\n",
      "Each image is of size: (100, 100)\n"
     ]
    }
   ],
   "source": [
    "n_train = train_labels.shape[0]\n",
    "print (\"Number of training examples: {}\".format(n_train))\n",
    "print (\"Each image is of size: {}\".format(IMAGE_SIZE))"
   ]
  },
  {
   "cell_type": "code",
   "execution_count": 9,
   "id": "68e6dd2a",
   "metadata": {},
   "outputs": [],
   "source": [
    "train_images = train_images / 255.0 "
   ]
  },
  {
   "cell_type": "markdown",
   "id": "38a8d4b2",
   "metadata": {},
   "source": [
    "## Model 1 - CNN"
   ]
  },
  {
   "cell_type": "code",
   "execution_count": 16,
   "id": "e6907799",
   "metadata": {},
   "outputs": [
    {
     "name": "stdout",
     "output_type": "stream",
     "text": [
      "Epoch 1/25\n",
      "100/100 [==============================] - 86s 835ms/step - loss: 2.8938 - accuracy: 0.1795 - recall: 0.0172 - precision: 0.7143 - val_loss: 2.6056 - val_accuracy: 0.2688 - val_recall: 0.0550 - val_precision: 0.7068\n",
      "Epoch 2/25\n",
      "100/100 [==============================] - 82s 821ms/step - loss: 2.3521 - accuracy: 0.3408 - recall: 0.1029 - precision: 0.7264 - val_loss: 2.3988 - val_accuracy: 0.3331 - val_recall: 0.1106 - val_precision: 0.7052\n",
      "Epoch 3/25\n",
      "100/100 [==============================] - 82s 825ms/step - loss: 2.0601 - accuracy: 0.4148 - recall: 0.1789 - precision: 0.7626 - val_loss: 2.3614 - val_accuracy: 0.3512 - val_recall: 0.1391 - val_precision: 0.6773\n",
      "Epoch 4/25\n",
      "100/100 [==============================] - 71s 707ms/step - loss: 1.8037 - accuracy: 0.4877 - recall: 0.2527 - precision: 0.7932 - val_loss: 2.2638 - val_accuracy: 0.3837 - val_recall: 0.1891 - val_precision: 0.6656\n",
      "Epoch 5/25\n",
      "100/100 [==============================] - 163s 2s/step - loss: 1.5284 - accuracy: 0.5592 - recall: 0.3388 - precision: 0.8138 - val_loss: 2.4504 - val_accuracy: 0.3487 - val_recall: 0.1941 - val_precision: 0.5943\n",
      "Epoch 6/25\n",
      "100/100 [==============================] - 48s 481ms/step - loss: 1.2714 - accuracy: 0.6279 - recall: 0.4410 - precision: 0.8519 - val_loss: 2.4937 - val_accuracy: 0.3647 - val_recall: 0.2384 - val_precision: 0.5529\n",
      "Epoch 7/25\n",
      "100/100 [==============================] - 49s 488ms/step - loss: 0.9724 - accuracy: 0.7235 - recall: 0.5655 - precision: 0.8895 - val_loss: 2.7011 - val_accuracy: 0.3597 - val_recall: 0.2591 - val_precision: 0.5095\n",
      "Epoch 8/25\n",
      "100/100 [==============================] - 47s 473ms/step - loss: 0.7434 - accuracy: 0.7892 - recall: 0.6689 - precision: 0.9114 - val_loss: 3.0121 - val_accuracy: 0.3369 - val_recall: 0.2650 - val_precision: 0.4599\n",
      "Epoch 9/25\n",
      "100/100 [==============================] - 46s 465ms/step - loss: 0.5442 - accuracy: 0.8541 - recall: 0.7613 - precision: 0.9393 - val_loss: 3.3345 - val_accuracy: 0.3462 - val_recall: 0.2844 - val_precision: 0.4266\n",
      "Epoch 10/25\n",
      "100/100 [==============================] - 49s 495ms/step - loss: 0.3761 - accuracy: 0.9050 - recall: 0.8441 - precision: 0.9599 - val_loss: 3.5595 - val_accuracy: 0.3388 - val_recall: 0.2909 - val_precision: 0.4127\n",
      "Epoch 11/25\n",
      "100/100 [==============================] - 48s 485ms/step - loss: 0.2509 - accuracy: 0.9404 - recall: 0.9031 - precision: 0.9740 - val_loss: 3.9890 - val_accuracy: 0.3341 - val_recall: 0.2941 - val_precision: 0.3929\n",
      "Epoch 12/25\n",
      "100/100 [==============================] - 48s 486ms/step - loss: 0.1642 - accuracy: 0.9675 - recall: 0.9450 - precision: 0.9848 - val_loss: 4.2847 - val_accuracy: 0.3316 - val_recall: 0.2956 - val_precision: 0.3779\n",
      "Epoch 13/25\n",
      "100/100 [==============================] - 48s 486ms/step - loss: 0.1041 - accuracy: 0.9823 - recall: 0.9702 - precision: 0.9912 - val_loss: 4.5605 - val_accuracy: 0.3244 - val_recall: 0.2962 - val_precision: 0.3664\n",
      "Epoch 14/25\n",
      "100/100 [==============================] - 50s 496ms/step - loss: 0.0637 - accuracy: 0.9922 - recall: 0.9859 - precision: 0.9961 - val_loss: 4.8291 - val_accuracy: 0.3212 - val_recall: 0.2962 - val_precision: 0.3590\n",
      "Epoch 15/25\n",
      "100/100 [==============================] - 50s 498ms/step - loss: 0.0407 - accuracy: 0.9956 - recall: 0.9927 - precision: 0.9980 - val_loss: 5.1435 - val_accuracy: 0.3303 - val_recall: 0.3059 - val_precision: 0.3559\n",
      "Epoch 16/25\n",
      "100/100 [==============================] - 50s 500ms/step - loss: 0.0253 - accuracy: 0.9985 - recall: 0.9964 - precision: 0.9991 - val_loss: 5.3400 - val_accuracy: 0.3313 - val_recall: 0.3103 - val_precision: 0.3576\n",
      "Epoch 17/25\n",
      "100/100 [==============================] - 49s 491ms/step - loss: 0.0181 - accuracy: 0.9987 - recall: 0.9980 - precision: 0.9991 - val_loss: 5.5297 - val_accuracy: 0.3253 - val_recall: 0.3072 - val_precision: 0.3488\n",
      "Epoch 18/25\n",
      "100/100 [==============================] - 50s 502ms/step - loss: 0.0133 - accuracy: 0.9994 - recall: 0.9989 - precision: 0.9995 - val_loss: 5.6520 - val_accuracy: 0.3338 - val_recall: 0.3156 - val_precision: 0.3579\n",
      "Epoch 19/25\n",
      "100/100 [==============================] - 50s 496ms/step - loss: 0.0100 - accuracy: 0.9993 - recall: 0.9991 - precision: 0.9995 - val_loss: 5.8976 - val_accuracy: 0.3322 - val_recall: 0.3144 - val_precision: 0.3514\n",
      "Epoch 20/25\n",
      "100/100 [==============================] - 47s 471ms/step - loss: 0.0758 - accuracy: 0.9797 - recall: 0.9762 - precision: 0.9832 - val_loss: 5.8025 - val_accuracy: 0.3069 - val_recall: 0.2891 - val_precision: 0.3321\n",
      "Epoch 21/25\n",
      "100/100 [==============================] - 47s 467ms/step - loss: 0.2851 - accuracy: 0.9091 - recall: 0.8868 - precision: 0.9281 - val_loss: 5.5009 - val_accuracy: 0.3200 - val_recall: 0.3013 - val_precision: 0.3513\n",
      "Epoch 22/25\n",
      "100/100 [==============================] - 47s 469ms/step - loss: 0.1530 - accuracy: 0.9581 - recall: 0.9453 - precision: 0.9682 - val_loss: 5.4230 - val_accuracy: 0.3197 - val_recall: 0.3006 - val_precision: 0.3524\n",
      "Epoch 23/25\n",
      "100/100 [==============================] - 47s 466ms/step - loss: 0.0625 - accuracy: 0.9871 - recall: 0.9824 - precision: 0.9903 - val_loss: 5.7511 - val_accuracy: 0.3309 - val_recall: 0.3156 - val_precision: 0.3556\n",
      "Epoch 24/25\n",
      "100/100 [==============================] - 48s 477ms/step - loss: 0.0255 - accuracy: 0.9957 - recall: 0.9950 - precision: 0.9966 - val_loss: 6.0911 - val_accuracy: 0.3313 - val_recall: 0.3178 - val_precision: 0.3495\n",
      "Epoch 25/25\n",
      "100/100 [==============================] - 47s 473ms/step - loss: 0.0109 - accuracy: 0.9991 - recall: 0.9991 - precision: 0.9992 - val_loss: 6.2096 - val_accuracy: 0.3300 - val_recall: 0.3134 - val_precision: 0.3474\n"
     ]
    }
   ],
   "source": [
    "train_labels_new = to_categorical(train_labels)\n",
    "model = tf.keras.Sequential([\n",
    "    tf.keras.layers.Conv2D(32, (3, 3), activation = 'relu', input_shape = (100,100,3)), \n",
    "    tf.keras.layers.MaxPooling2D(2,2),\n",
    "    tf.keras.layers.Conv2D(32, (3, 3), activation = 'relu'),\n",
    "    tf.keras.layers.MaxPooling2D(2,2),\n",
    "    tf.keras.layers.Flatten(),\n",
    "    tf.keras.layers.Dense(128, activation=tf.nn.relu),\n",
    "    tf.keras.layers.Dense(25, activation=tf.nn.softmax)\n",
    "])\n",
    "model.compile(optimizer = 'adam', loss = 'categorical_crossentropy', metrics=[\"accuracy\",tf.keras.metrics.Recall(),tf.keras.metrics.Precision()])\n",
    "history = model.fit(train_images, train_labels_new, batch_size=128, epochs=25, validation_split = 0.2)"
   ]
  },
  {
   "cell_type": "code",
   "execution_count": 17,
   "id": "e4f113c9",
   "metadata": {},
   "outputs": [],
   "source": [
    "def plot_accuracy_loss(history):\n",
    "    \"\"\"\n",
    "        Plot the accuracy and the loss during the training of the nn.\n",
    "    \"\"\"\n",
    "    fig = plt.figure(figsize=(10,5))\n",
    "\n",
    "    # Plot accuracy\n",
    "    plt.subplot(221)\n",
    "    plt.plot(history.history['accuracy'],'bo--', label = \"acc\")\n",
    "    plt.plot(history.history['val_accuracy'], 'ro--', label = \"val_acc\")\n",
    "    plt.title(\"train_acc vs val_acc\")\n",
    "    plt.ylabel(\"accuracy\")\n",
    "    plt.xlabel(\"epochs\")\n",
    "    plt.legend()\n",
    "\n",
    "    # Plot loss function\n",
    "    plt.subplot(222)\n",
    "    plt.plot(history.history['loss'],'bo--', label = \"loss\")\n",
    "    plt.plot(history.history['val_loss'], 'ro--', label = \"val_loss\")\n",
    "    plt.title(\"train_loss vs val_loss\")\n",
    "    plt.ylabel(\"loss\")\n",
    "    plt.xlabel(\"epochs\")\n",
    "\n",
    "    plt.legend()\n",
    "    plt.show()"
   ]
  },
  {
   "cell_type": "code",
   "execution_count": 18,
   "id": "2ad7d4db",
   "metadata": {
    "scrolled": true
   },
   "outputs": [
    {
     "data": {
      "image/png": "[encoded data removed]",
      "text/plain": [
       "<Figure size 720x360 with 2 Axes>"
      ]
     },
     "metadata": {},
     "output_type": "display_data"
    }
   ],
   "source": [
    "plot_accuracy_loss(history)"
   ]
  },
  {
   "cell_type": "code",
   "execution_count": 19,
   "id": "5564bf43",
   "metadata": {},
   "outputs": [],
   "source": [
    "model.save('cnn.h5')"
   ]
  },
  {
   "cell_type": "code",
   "execution_count": null,
   "id": "e68a84f3",
   "metadata": {},
   "outputs": [],
   "source": [
    "# from tensorflow.keras.models import load_model\n",
    "# # load the model\n",
    "# model = load_model('my_model.h5')"
   ]
  },
  {
   "cell_type": "code",
   "execution_count": 22,
   "id": "db292b7c",
   "metadata": {},
   "outputs": [
    {
     "name": "stdout",
     "output_type": "stream",
     "text": [
      "47/47 [==============================] - 1s 29ms/step\n"
     ]
    }
   ],
   "source": [
    "# Define the path to the test images\n",
    "test_path = 'D:/sml_kaggle2/SML_Test/'\n",
    "\n",
    "# Get a list of all image file names in the directory\n",
    "image_files = os.listdir(test_path)\n",
    "\n",
    "# Sort the list of image file names in ascending order\n",
    "image_files.sort(key=lambda x: int(x.split('.')[0].split('_')[1]))\n",
    "\n",
    "# Load the test images into a NumPy array\n",
    "test_images = []\n",
    "for file in image_files:\n",
    "    image = Image.open(os.path.join(test_path, file))\n",
    "    newsize=(100,100)\n",
    "    image = image.resize(newsize)\n",
    "    image_array = np.array(image)\n",
    "    test_images.append(image_array)\n",
    "test_images = np.array(test_images)\n",
    "\n",
    "# Normalize the pixel values to be between 0 and 1\n",
    "test_images = test_images / 255.0\n",
    "\n",
    "# Predict the labels of the test images using the trained model\n",
    "predictions = model.predict(test_images)\n",
    "pred_labels = np.argmax(predictions, axis=1)\n",
    "\n",
    "# Create DataFrame with image ids and predicted labels\n",
    "image_ids = [file for file in image_files]\n",
    "results_df = pd.DataFrame({'image_id': image_ids, 'label': pred_labels})\n",
    "\n",
    "# Save results to CSV file\n",
    "results_df.to_csv('mt21119_CNN.csv', index=False)\n",
    "\n"
   ]
  },
  {
   "cell_type": "code",
   "execution_count": 9,
   "id": "33061d11",
   "metadata": {},
   "outputs": [],
   "source": [
    "# # Define the path to the test images\n",
    "# test_path = 'D:/sml_kaggle2/SML_Test/'\n",
    "\n",
    "# # Get a list of all image file names in the directory\n",
    "# image_files = os.listdir(test_path)\n",
    "\n",
    "# # Sort the list of image file names in ascending order\n",
    "# image_files.sort(key=lambda x: int(x.split('.')[0].split('_')[1]))\n",
    "\n",
    "# # Load the test images into a NumPy array\n",
    "# test_images = []\n",
    "# for file in image_files:\n",
    "#     image = Image.open(os.path.join(test_path, file))\n",
    "#     image_array = np.array(image)\n",
    "#     test_images.append(image_array)\n",
    "# test_images = np.array(test_images)\n",
    "\n",
    "# # Normalize the pixel values to be between 0 and 1\n",
    "# test_images = test_images / 255.0\n"
   ]
  },
  {
   "cell_type": "code",
   "execution_count": null,
   "id": "4117b682",
   "metadata": {},
   "outputs": [],
   "source": []
  },
  {
   "cell_type": "markdown",
   "id": "2442880e",
   "metadata": {},
   "source": [
    "## Model 2 VGG16"
   ]
  },
  {
   "cell_type": "code",
   "execution_count": 23,
   "id": "47e71e91",
   "metadata": {
    "scrolled": true
   },
   "outputs": [
    {
     "name": "stdout",
     "output_type": "stream",
     "text": [
      "500/500 [==============================] - 438s 876ms/step\n",
      "47/47 [==============================] - 42s 887ms/step\n"
     ]
    }
   ],
   "source": [
    "model = VGG16(weights='imagenet', include_top=False)\n",
    "train_features = model.predict(train_images)\n",
    "test_features = model.predict(test_images)\n"
   ]
  },
  {
   "cell_type": "code",
   "execution_count": 24,
   "id": "206c82ca",
   "metadata": {},
   "outputs": [],
   "source": [
    "n_train, x, y, z = train_features.shape\n",
    "numFeatures = x * y * z\n",
    "from sklearn import decomposition\n",
    "pca = decomposition.PCA(n_components = 2)\n",
    "X = train_features.reshape((n_train, x*y*z))\n",
    "pca.fit(X)\n",
    "C = pca.transform(X) # Représentation des individus dans les nouveaux axe\n",
    "C1 = C[:,0]\n",
    "C2 = C[:,1]"
   ]
  },
  {
   "cell_type": "code",
   "execution_count": 25,
   "id": "5a167b6f",
   "metadata": {},
   "outputs": [
    {
     "name": "stdout",
     "output_type": "stream",
     "text": [
      "Epoch 1/25\n",
      "500/500 [==============================] - 2s 2ms/step - loss: 3.0158 - accuracy: 0.1542 - recall_1: 0.0000e+00 - precision_1: 0.0000e+00\n",
      "Epoch 2/25\n",
      "500/500 [==============================] - 1s 2ms/step - loss: 2.6820 - accuracy: 0.2939 - recall_1: 0.0031 - precision_1: 1.0000\n",
      "Epoch 3/25\n",
      "500/500 [==============================] - 1s 2ms/step - loss: 2.4639 - accuracy: 0.3539 - recall_1: 0.0222 - precision_1: 0.9861\n",
      "Epoch 4/25\n",
      "500/500 [==============================] - 1s 2ms/step - loss: 2.2980 - accuracy: 0.3929 - recall_1: 0.0456 - precision_1: 0.9720\n",
      "Epoch 5/25\n",
      "500/500 [==============================] - 1s 2ms/step - loss: 2.1814 - accuracy: 0.4181 - recall_1: 0.0680 - precision_1: 0.9544\n",
      "Epoch 6/25\n",
      "500/500 [==============================] - 1s 2ms/step - loss: 2.0958 - accuracy: 0.4394 - recall_1: 0.0923 - precision_1: 0.9426\n",
      "Epoch 7/25\n",
      "500/500 [==============================] - 1s 2ms/step - loss: 2.0290 - accuracy: 0.4543 - recall_1: 0.1115 - precision_1: 0.9326\n",
      "Epoch 8/25\n",
      "500/500 [==============================] - 1s 2ms/step - loss: 1.9735 - accuracy: 0.4650 - recall_1: 0.1308 - precision_1: 0.9277\n",
      "Epoch 9/25\n",
      "500/500 [==============================] - 1s 2ms/step - loss: 1.9257 - accuracy: 0.4761 - recall_1: 0.1479 - precision_1: 0.9221\n",
      "Epoch 10/25\n",
      "500/500 [==============================] - 1s 2ms/step - loss: 1.8850 - accuracy: 0.4878 - recall_1: 0.1621 - precision_1: 0.9189\n",
      "Epoch 11/25\n",
      "500/500 [==============================] - 1s 2ms/step - loss: 1.8496 - accuracy: 0.4972 - recall_1: 0.1754 - precision_1: 0.9108\n",
      "Epoch 12/25\n",
      "500/500 [==============================] - 1s 2ms/step - loss: 1.8184 - accuracy: 0.5024 - recall_1: 0.1882 - precision_1: 0.9077\n",
      "Epoch 13/25\n",
      "500/500 [==============================] - 1s 2ms/step - loss: 1.7909 - accuracy: 0.5092 - recall_1: 0.1979 - precision_1: 0.9015\n",
      "Epoch 14/25\n",
      "500/500 [==============================] - 1s 2ms/step - loss: 1.7660 - accuracy: 0.5154 - recall_1: 0.2102 - precision_1: 0.9014\n",
      "Epoch 15/25\n",
      "500/500 [==============================] - 1s 2ms/step - loss: 1.7431 - accuracy: 0.5177 - recall_1: 0.2183 - precision_1: 0.8975\n",
      "Epoch 16/25\n",
      "500/500 [==============================] - 1s 2ms/step - loss: 1.7224 - accuracy: 0.5241 - recall_1: 0.2272 - precision_1: 0.8966\n",
      "Epoch 17/25\n",
      "500/500 [==============================] - 1s 2ms/step - loss: 1.7032 - accuracy: 0.5286 - recall_1: 0.2357 - precision_1: 0.8964\n",
      "Epoch 18/25\n",
      "500/500 [==============================] - 1s 2ms/step - loss: 1.6861 - accuracy: 0.5326 - recall_1: 0.2428 - precision_1: 0.8921\n",
      "Epoch 19/25\n",
      "500/500 [==============================] - 1s 2ms/step - loss: 1.6700 - accuracy: 0.5356 - recall_1: 0.2494 - precision_1: 0.8896\n",
      "Epoch 20/25\n",
      "500/500 [==============================] - 1s 2ms/step - loss: 1.6552 - accuracy: 0.5398 - recall_1: 0.2562 - precision_1: 0.8907\n",
      "Epoch 21/25\n",
      "500/500 [==============================] - 1s 2ms/step - loss: 1.6413 - accuracy: 0.5431 - recall_1: 0.2618 - precision_1: 0.8899\n",
      "Epoch 22/25\n",
      "500/500 [==============================] - 1s 2ms/step - loss: 1.6283 - accuracy: 0.5449 - recall_1: 0.2686 - precision_1: 0.8876\n",
      "Epoch 23/25\n",
      "500/500 [==============================] - 1s 2ms/step - loss: 1.6161 - accuracy: 0.5491 - recall_1: 0.2729 - precision_1: 0.8881\n",
      "Epoch 24/25\n",
      "500/500 [==============================] - 1s 2ms/step - loss: 1.6047 - accuracy: 0.5509 - recall_1: 0.2774 - precision_1: 0.8862\n",
      "Epoch 25/25\n",
      "500/500 [==============================] - 1s 2ms/step - loss: 1.5935 - accuracy: 0.5532 - recall_1: 0.2812 - precision_1: 0.8874\n"
     ]
    }
   ],
   "source": [
    "model2 = tf.keras.Sequential([\n",
    "    tf.keras.layers.Flatten(input_shape = (x, y, z)),\n",
    "    tf.keras.layers.Dense(50, activation=tf.nn.relu),\n",
    "    tf.keras.layers.Dense(25, activation=tf.nn.softmax)\n",
    "])\n",
    "\n",
    "model2.compile(optimizer = 'adagrad', loss = 'categorical_crossentropy', metrics=[\"accuracy\",tf.keras.metrics.Recall(),tf.keras.metrics.Precision()])\n",
    "\n",
    "history2 = model2.fit(train_features,train_labels_new,epochs=25)"
   ]
  },
  {
   "cell_type": "code",
   "execution_count": 26,
   "id": "a917f70e",
   "metadata": {
    "scrolled": true
   },
   "outputs": [
    {
     "name": "stdout",
     "output_type": "stream",
     "text": [
      "WARNING:tensorflow:Compiled the loaded model, but the compiled metrics have yet to be built. `model.compile_metrics` will be empty until you train or evaluate the model.\n"
     ]
    }
   ],
   "source": [
    "model.save('D:/vgg16.h5')"
   ]
  },
  {
   "cell_type": "code",
   "execution_count": null,
   "id": "f0cd0c16",
   "metadata": {},
   "outputs": [],
   "source": []
  },
  {
   "cell_type": "code",
   "execution_count": 28,
   "id": "94ca0e5f",
   "metadata": {},
   "outputs": [],
   "source": [
    "# # Define the path to the test images\n",
    "# test_path = 'D:/sml_kaggle2/SML_Test/'\n",
    "\n",
    "# # Get a list of all image file names in the directory\n",
    "# image_files = os.listdir(test_path)\n",
    "\n",
    "# # Sort the list of image file names in ascending order\n",
    "# image_files.sort(key=lambda x: int(x.split('.')[0].split('_')[1]))\n",
    "\n",
    "# # Load the test images into a NumPy array\n",
    "# test_images = []\n",
    "# for file in image_files:\n",
    "#     image = Image.open(os.path.join(test_path, file))\n",
    "#     newsize=(100,100)\n",
    "#     image = image.resize(newsize)\n",
    "#     image_array = np.array(image)\n",
    "#     test_images.append(image_array)\n",
    "# test_images = np.array(test_images)\n",
    "\n",
    "# # Normalize the pixel values to be between 0 and 1\n",
    "# test_images = test_images / 255.0\n",
    "\n",
    "# # Predict the labels of the test images using the trained model\n",
    "# predictions = model2.predict(test_images)\n",
    "# pred_labels = np.argmax(predictions, axis=1)\n",
    "\n",
    "# # Create DataFrame with image ids and predicted labels\n",
    "# image_ids = [file for file in image_files]\n",
    "# results_df = pd.DataFrame({'image_id': image_ids, 'label': pred_labels})\n",
    "\n",
    "# # Save results to CSV file\n",
    "# #results_df.to_csv('mt21119_CNN.csv', index=False)"
   ]
  },
  {
   "cell_type": "code",
   "execution_count": null,
   "id": "6884d011",
   "metadata": {},
   "outputs": [],
   "source": []
  },
  {
   "cell_type": "markdown",
   "id": "79252f5c",
   "metadata": {},
   "source": [
    "## Model 3 VGG19"
   ]
  },
  {
   "cell_type": "code",
   "execution_count": 35,
   "id": "4df1d572",
   "metadata": {
    "scrolled": true
   },
   "outputs": [
    {
     "name": "stdout",
     "output_type": "stream",
     "text": [
      "Epoch 1/25\n",
      "500/500 [==============================] - 556s 1s/step - loss: 2.2023 - accuracy: 0.3568 - recall_4: 0.1598 - precision_4: 0.7144\n",
      "Epoch 2/25\n",
      "500/500 [==============================] - 568s 1s/step - loss: 1.7931 - accuracy: 0.4647 - recall_4: 0.2862 - precision_4: 0.7433\n",
      "Epoch 3/25\n",
      "500/500 [==============================] - 557s 1s/step - loss: 1.6563 - accuracy: 0.5081 - recall_4: 0.3386 - precision_4: 0.7603\n",
      "Epoch 4/25\n",
      "500/500 [==============================] - 531s 1s/step - loss: 1.5495 - accuracy: 0.5357 - recall_4: 0.3766 - precision_4: 0.7683\n",
      "Epoch 5/25\n",
      "500/500 [==============================] - 541s 1s/step - loss: 1.4514 - accuracy: 0.5641 - recall_4: 0.4155 - precision_4: 0.7808\n",
      "Epoch 6/25\n",
      "500/500 [==============================] - 526s 1s/step - loss: 1.3613 - accuracy: 0.5888 - recall_4: 0.4446 - precision_4: 0.7921\n",
      "Epoch 7/25\n",
      "500/500 [==============================] - 501s 1s/step - loss: 1.2650 - accuracy: 0.6165 - recall_4: 0.4816 - precision_4: 0.8041\n",
      "Epoch 8/25\n",
      "500/500 [==============================] - 510s 1s/step - loss: 1.1799 - accuracy: 0.6329 - recall_4: 0.5073 - precision_4: 0.8105\n",
      "Epoch 9/25\n",
      "500/500 [==============================] - 546s 1s/step - loss: 1.0854 - accuracy: 0.6628 - recall_4: 0.5434 - precision_4: 0.8225\n",
      "Epoch 10/25\n",
      "500/500 [==============================] - 573s 1s/step - loss: 0.9865 - accuracy: 0.6871 - recall_4: 0.5826 - precision_4: 0.8345\n",
      "Epoch 11/25\n",
      "500/500 [==============================] - 521s 1s/step - loss: 0.8861 - accuracy: 0.7222 - recall_4: 0.6198 - precision_4: 0.8478\n",
      "Epoch 12/25\n",
      "500/500 [==============================] - 510s 1s/step - loss: 0.8041 - accuracy: 0.7412 - recall_4: 0.6529 - precision_4: 0.8552\n",
      "Epoch 13/25\n",
      "500/500 [==============================] - 551s 1s/step - loss: 0.6864 - accuracy: 0.7804 - recall_4: 0.7028 - precision_4: 0.8758\n",
      "Epoch 14/25\n",
      "500/500 [==============================] - 534s 1s/step - loss: 0.6176 - accuracy: 0.7991 - recall_4: 0.7321 - precision_4: 0.8815\n",
      "Epoch 15/25\n",
      "500/500 [==============================] - 511s 1s/step - loss: 0.5258 - accuracy: 0.8301 - recall_4: 0.7729 - precision_4: 0.8957\n",
      "Epoch 16/25\n",
      "500/500 [==============================] - 511s 1s/step - loss: 0.4417 - accuracy: 0.8517 - recall_4: 0.8057 - precision_4: 0.9053\n",
      "Epoch 17/25\n",
      "500/500 [==============================] - 511s 1s/step - loss: 0.4015 - accuracy: 0.8668 - recall_4: 0.8273 - precision_4: 0.9131\n",
      "Epoch 18/25\n",
      "500/500 [==============================] - 512s 1s/step - loss: 0.3313 - accuracy: 0.8907 - recall_4: 0.8592 - precision_4: 0.9265\n",
      "Epoch 19/25\n",
      "500/500 [==============================] - 510s 1s/step - loss: 0.2955 - accuracy: 0.9011 - recall_4: 0.8741 - precision_4: 0.9302\n",
      "Epoch 20/25\n",
      "500/500 [==============================] - 511s 1s/step - loss: 0.2505 - accuracy: 0.9185 - recall_4: 0.8963 - precision_4: 0.9404\n",
      "Epoch 21/25\n",
      "500/500 [==============================] - 512s 1s/step - loss: 0.2401 - accuracy: 0.9201 - recall_4: 0.8999 - precision_4: 0.9409\n",
      "Epoch 22/25\n",
      "500/500 [==============================] - 511s 1s/step - loss: 0.1925 - accuracy: 0.9358 - recall_4: 0.9214 - precision_4: 0.9503\n",
      "Epoch 23/25\n",
      "500/500 [==============================] - 514s 1s/step - loss: 0.2104 - accuracy: 0.9291 - recall_4: 0.9136 - precision_4: 0.9450\n",
      "Epoch 24/25\n",
      "500/500 [==============================] - 543s 1s/step - loss: 0.1725 - accuracy: 0.9452 - recall_4: 0.9348 - precision_4: 0.9550\n",
      "Epoch 25/25\n",
      "500/500 [==============================] - 543s 1s/step - loss: 0.1794 - accuracy: 0.9390 - recall_4: 0.9294 - precision_4: 0.9505\n"
     ]
    }
   ],
   "source": [
    "vgg19_model = VGG19(weights='imagenet',include_top=False)\n",
    "x=vgg19_model.output\n",
    "x=GlobalAveragePooling2D()(x)\n",
    "x=Dense(1024,activation='relu')(x) #we add dense layers so that the model can learn more complex functions and classify for better results.\n",
    "x=Dense(1024,activation='relu')(x) #dense layer 2\n",
    "x=Dense(512,activation='relu')(x) #dense layer 3\n",
    "preds=Dense(25, activation='softmax')(x) #final layer with softmax activation\n",
    "\n",
    "newModel=Model(inputs=vgg19_model.input,outputs=preds)\n",
    "for layer in newModel.layers[:-5]:\n",
    "    layer.trainable=False\n",
    "    \n",
    "newModel.compile(optimizer='adam',loss='categorical_crossentropy',metrics=[\"accuracy\",tf.keras.metrics.Recall(),tf.keras.metrics.Precision()])\n",
    "history = newModel.fit(train_images,train_labels_new,epochs=25)"
   ]
  },
  {
   "cell_type": "code",
   "execution_count": 36,
   "id": "4de23964",
   "metadata": {},
   "outputs": [],
   "source": [
    "newModel.save('D:/vgg19/.h5')"
   ]
  },
  {
   "cell_type": "markdown",
   "id": "9a1ecb57",
   "metadata": {},
   "source": []
  },
  {
   "cell_type": "code",
   "execution_count": 37,
   "id": "2faa5d0a",
   "metadata": {},
   "outputs": [
    {
     "name": "stdout",
     "output_type": "stream",
     "text": [
      "47/47 [==============================] - 23s 491ms/step\n"
     ]
    }
   ],
   "source": [
    "# Define the path to the test images\n",
    "test_path = 'D:/sml_kaggle2/SML_Test/'\n",
    "\n",
    "# Get a list of all image file names in the directory\n",
    "image_files = os.listdir(test_path)\n",
    "\n",
    "# Sort the list of image file names in ascending order\n",
    "image_files.sort(key=lambda x: int(x.split('.')[0].split('_')[1]))\n",
    "\n",
    "# Load the test images into a NumPy array\n",
    "test_images = []\n",
    "for file in image_files:\n",
    "    image = Image.open(os.path.join(test_path, file))\n",
    "    image_array = np.array(image)\n",
    "    test_images.append(image_array)\n",
    "test_images = np.array(test_images)\n",
    "\n",
    "# Normalize the pixel values to be between 0 and 1\n",
    "test_images = test_images / 255.0\n",
    "\n",
    "# Predict the labels of the test images using the trained model\n",
    "predictions = newModel.predict(test_images)\n",
    "pred_labels = np.argmax(predictions, axis=1)\n",
    "\n",
    "# Create DataFrame with image ids and predicted labels\n",
    "image_ids = [file for file in image_files]\n",
    "results_df = pd.DataFrame({'id': image_ids, 'category': pred_labels})\n",
    "\n",
    "# Save results to CSV file\n",
    "results_df.to_csv('D:/vgg19.csv', index=False)"
   ]
  },
  {
   "cell_type": "markdown",
   "id": "47026a7c",
   "metadata": {},
   "source": [
    "## Model 4 ResNet50"
   ]
  },
  {
   "cell_type": "code",
   "execution_count": 39,
   "id": "d776713c",
   "metadata": {},
   "outputs": [
    {
     "name": "stdout",
     "output_type": "stream",
     "text": [
      "Epoch 1/25\n",
      "500/500 [==============================] - ETA: 0s - loss: 3.2144 - accuracy: 0.0584 - recall_5: 0.0000e+00 - precision_5: 0.0000e+00WARNING:tensorflow:Early stopping conditioned on metric `val_acc` which is not available. Available metrics are: loss,accuracy,recall_5,precision_5\n",
      "500/500 [==============================] - 258s 502ms/step - loss: 3.2144 - accuracy: 0.0584 - recall_5: 0.0000e+00 - precision_5: 0.0000e+00\n",
      "Epoch 2/25\n",
      "500/500 [==============================] - ETA: 0s - loss: 3.1660 - accuracy: 0.0634 - recall_5: 0.0000e+00 - precision_5: 0.0000e+00WARNING:tensorflow:Early stopping conditioned on metric `val_acc` which is not available. Available metrics are: loss,accuracy,recall_5,precision_5\n",
      "500/500 [==============================] - 254s 508ms/step - loss: 3.1660 - accuracy: 0.0634 - recall_5: 0.0000e+00 - precision_5: 0.0000e+00\n",
      "Epoch 3/25\n",
      "500/500 [==============================] - ETA: 0s - loss: 3.1464 - accuracy: 0.0677 - recall_5: 0.0000e+00 - precision_5: 0.0000e+00WARNING:tensorflow:Early stopping conditioned on metric `val_acc` which is not available. Available metrics are: loss,accuracy,recall_5,precision_5\n",
      "500/500 [==============================] - 255s 511ms/step - loss: 3.1464 - accuracy: 0.0677 - recall_5: 0.0000e+00 - precision_5: 0.0000e+00\n",
      "Epoch 4/25\n",
      "500/500 [==============================] - ETA: 0s - loss: 3.1320 - accuracy: 0.0709 - recall_5: 0.0000e+00 - precision_5: 0.0000e+00WARNING:tensorflow:Early stopping conditioned on metric `val_acc` which is not available. Available metrics are: loss,accuracy,recall_5,precision_5\n",
      "500/500 [==============================] - 251s 502ms/step - loss: 3.1320 - accuracy: 0.0709 - recall_5: 0.0000e+00 - precision_5: 0.0000e+00\n",
      "Epoch 5/25\n",
      "500/500 [==============================] - ETA: 0s - loss: 3.1167 - accuracy: 0.0779 - recall_5: 0.0000e+00 - precision_5: 0.0000e+00WARNING:tensorflow:Early stopping conditioned on metric `val_acc` which is not available. Available metrics are: loss,accuracy,recall_5,precision_5\n",
      "500/500 [==============================] - 247s 494ms/step - loss: 3.1167 - accuracy: 0.0779 - recall_5: 0.0000e+00 - precision_5: 0.0000e+00\n",
      "Epoch 6/25\n",
      "500/500 [==============================] - ETA: 0s - loss: 3.1117 - accuracy: 0.0790 - recall_5: 0.0000e+00 - precision_5: 0.0000e+00WARNING:tensorflow:Early stopping conditioned on metric `val_acc` which is not available. Available metrics are: loss,accuracy,recall_5,precision_5\n",
      "500/500 [==============================] - 239s 479ms/step - loss: 3.1117 - accuracy: 0.0790 - recall_5: 0.0000e+00 - precision_5: 0.0000e+00\n",
      "Epoch 7/25\n",
      "500/500 [==============================] - ETA: 0s - loss: 3.1103 - accuracy: 0.0822 - recall_5: 0.0000e+00 - precision_5: 0.0000e+00WARNING:tensorflow:Early stopping conditioned on metric `val_acc` which is not available. Available metrics are: loss,accuracy,recall_5,precision_5\n",
      "500/500 [==============================] - 239s 477ms/step - loss: 3.1103 - accuracy: 0.0822 - recall_5: 0.0000e+00 - precision_5: 0.0000e+00\n",
      "Epoch 8/25\n",
      "500/500 [==============================] - ETA: 0s - loss: 3.1054 - accuracy: 0.0845 - recall_5: 1.8750e-04 - precision_5: 1.0000WARNING:tensorflow:Early stopping conditioned on metric `val_acc` which is not available. Available metrics are: loss,accuracy,recall_5,precision_5\n",
      "500/500 [==============================] - 240s 479ms/step - loss: 3.1054 - accuracy: 0.0845 - recall_5: 1.8750e-04 - precision_5: 1.0000\n",
      "Epoch 9/25\n",
      "500/500 [==============================] - ETA: 0s - loss: 3.1023 - accuracy: 0.0837 - recall_5: 1.2500e-04 - precision_5: 0.4000WARNING:tensorflow:Early stopping conditioned on metric `val_acc` which is not available. Available metrics are: loss,accuracy,recall_5,precision_5\n",
      "500/500 [==============================] - 241s 481ms/step - loss: 3.1023 - accuracy: 0.0837 - recall_5: 1.2500e-04 - precision_5: 0.4000\n",
      "Epoch 10/25\n",
      "500/500 [==============================] - ETA: 0s - loss: 3.0967 - accuracy: 0.0911 - recall_5: 7.5000e-04 - precision_5: 0.8571WARNING:tensorflow:Early stopping conditioned on metric `val_acc` which is not available. Available metrics are: loss,accuracy,recall_5,precision_5\n",
      "500/500 [==============================] - 241s 483ms/step - loss: 3.0967 - accuracy: 0.0911 - recall_5: 7.5000e-04 - precision_5: 0.8571\n",
      "Epoch 11/25\n",
      "500/500 [==============================] - ETA: 0s - loss: 3.1000 - accuracy: 0.0844 - recall_5: 3.1250e-04 - precision_5: 0.8333WARNING:tensorflow:Early stopping conditioned on metric `val_acc` which is not available. Available metrics are: loss,accuracy,recall_5,precision_5\n",
      "500/500 [==============================] - 320s 640ms/step - loss: 3.1000 - accuracy: 0.0844 - recall_5: 3.1250e-04 - precision_5: 0.8333\n",
      "Epoch 12/25\n",
      "500/500 [==============================] - ETA: 0s - loss: 3.0958 - accuracy: 0.0878 - recall_5: 4.3750e-04 - precision_5: 0.7000WARNING:tensorflow:Early stopping conditioned on metric `val_acc` which is not available. Available metrics are: loss,accuracy,recall_5,precision_5\n",
      "500/500 [==============================] - 209s 419ms/step - loss: 3.0958 - accuracy: 0.0878 - recall_5: 4.3750e-04 - precision_5: 0.7000\n",
      "Epoch 13/25\n",
      "500/500 [==============================] - ETA: 0s - loss: 3.0943 - accuracy: 0.0877 - recall_5: 4.3750e-04 - precision_5: 0.7000WARNING:tensorflow:Early stopping conditioned on metric `val_acc` which is not available. Available metrics are: loss,accuracy,recall_5,precision_5\n",
      "500/500 [==============================] - 217s 433ms/step - loss: 3.0943 - accuracy: 0.0877 - recall_5: 4.3750e-04 - precision_5: 0.7000\n",
      "Epoch 14/25\n",
      "500/500 [==============================] - ETA: 0s - loss: 3.0951 - accuracy: 0.0914 - recall_5: 6.2500e-04 - precision_5: 0.6667WARNING:tensorflow:Early stopping conditioned on metric `val_acc` which is not available. Available metrics are: loss,accuracy,recall_5,precision_5\n",
      "500/500 [==============================] - 218s 436ms/step - loss: 3.0951 - accuracy: 0.0914 - recall_5: 6.2500e-04 - precision_5: 0.6667\n",
      "Epoch 15/25\n",
      "500/500 [==============================] - ETA: 0s - loss: 3.0956 - accuracy: 0.0891 - recall_5: 8.1250e-04 - precision_5: 0.7222WARNING:tensorflow:Early stopping conditioned on metric `val_acc` which is not available. Available metrics are: loss,accuracy,recall_5,precision_5\n",
      "500/500 [==============================] - 232s 464ms/step - loss: 3.0956 - accuracy: 0.0891 - recall_5: 8.1250e-04 - precision_5: 0.7222\n",
      "Epoch 16/25\n",
      "500/500 [==============================] - ETA: 0s - loss: 3.0938 - accuracy: 0.0916 - recall_5: 9.3750e-04 - precision_5: 0.6818WARNING:tensorflow:Early stopping conditioned on metric `val_acc` which is not available. Available metrics are: loss,accuracy,recall_5,precision_5\n",
      "500/500 [==============================] - 227s 455ms/step - loss: 3.0938 - accuracy: 0.0916 - recall_5: 9.3750e-04 - precision_5: 0.6818\n",
      "Epoch 17/25\n",
      "500/500 [==============================] - ETA: 0s - loss: 3.0900 - accuracy: 0.0928 - recall_5: 7.5000e-04 - precision_5: 0.6000WARNING:tensorflow:Early stopping conditioned on metric `val_acc` which is not available. Available metrics are: loss,accuracy,recall_5,precision_5\n",
      "500/500 [==============================] - 220s 440ms/step - loss: 3.0900 - accuracy: 0.0928 - recall_5: 7.5000e-04 - precision_5: 0.6000\n",
      "Epoch 18/25\n",
      "500/500 [==============================] - ETA: 0s - loss: 3.0861 - accuracy: 0.0937 - recall_5: 9.3750e-04 - precision_5: 0.7143WARNING:tensorflow:Early stopping conditioned on metric `val_acc` which is not available. Available metrics are: loss,accuracy,recall_5,precision_5\n",
      "500/500 [==============================] - 220s 440ms/step - loss: 3.0861 - accuracy: 0.0937 - recall_5: 9.3750e-04 - precision_5: 0.7143\n",
      "Epoch 19/25\n",
      "500/500 [==============================] - ETA: 0s - loss: 3.0916 - accuracy: 0.0941 - recall_5: 8.1250e-04 - precision_5: 0.6190WARNING:tensorflow:Early stopping conditioned on metric `val_acc` which is not available. Available metrics are: loss,accuracy,recall_5,precision_5\n",
      "500/500 [==============================] - 221s 443ms/step - loss: 3.0916 - accuracy: 0.0941 - recall_5: 8.1250e-04 - precision_5: 0.6190\n",
      "Epoch 20/25\n"
     ]
    },
    {
     "name": "stdout",
     "output_type": "stream",
     "text": [
      "500/500 [==============================] - ETA: 0s - loss: 3.0877 - accuracy: 0.0920 - recall_5: 6.2500e-04 - precision_5: 0.4167WARNING:tensorflow:Early stopping conditioned on metric `val_acc` which is not available. Available metrics are: loss,accuracy,recall_5,precision_5\n",
      "500/500 [==============================] - 218s 436ms/step - loss: 3.0877 - accuracy: 0.0920 - recall_5: 6.2500e-04 - precision_5: 0.4167\n",
      "Epoch 21/25\n",
      "500/500 [==============================] - ETA: 0s - loss: 3.0882 - accuracy: 0.0938 - recall_5: 4.3750e-04 - precision_5: 0.6364WARNING:tensorflow:Early stopping conditioned on metric `val_acc` which is not available. Available metrics are: loss,accuracy,recall_5,precision_5\n",
      "500/500 [==============================] - 224s 448ms/step - loss: 3.0882 - accuracy: 0.0938 - recall_5: 4.3750e-04 - precision_5: 0.6364\n",
      "Epoch 22/25\n",
      "500/500 [==============================] - ETA: 0s - loss: 3.0871 - accuracy: 0.0927 - recall_5: 0.0015 - precision_5: 0.6316WARNING:tensorflow:Early stopping conditioned on metric `val_acc` which is not available. Available metrics are: loss,accuracy,recall_5,precision_5\n",
      "500/500 [==============================] - 221s 441ms/step - loss: 3.0871 - accuracy: 0.0927 - recall_5: 0.0015 - precision_5: 0.6316\n",
      "Epoch 23/25\n",
      "500/500 [==============================] - ETA: 0s - loss: 3.0875 - accuracy: 0.0926 - recall_5: 9.3750e-04 - precision_5: 0.6250WARNING:tensorflow:Early stopping conditioned on metric `val_acc` which is not available. Available metrics are: loss,accuracy,recall_5,precision_5\n",
      "500/500 [==============================] - 221s 442ms/step - loss: 3.0875 - accuracy: 0.0926 - recall_5: 9.3750e-04 - precision_5: 0.6250\n",
      "Epoch 24/25\n",
      "500/500 [==============================] - ETA: 0s - loss: 3.0807 - accuracy: 0.0922 - recall_5: 3.7500e-04 - precision_5: 0.7500WARNING:tensorflow:Early stopping conditioned on metric `val_acc` which is not available. Available metrics are: loss,accuracy,recall_5,precision_5\n",
      "500/500 [==============================] - 219s 437ms/step - loss: 3.0807 - accuracy: 0.0922 - recall_5: 3.7500e-04 - precision_5: 0.7500\n",
      "Epoch 25/25\n",
      "500/500 [==============================] - ETA: 0s - loss: 3.0856 - accuracy: 0.0919 - recall_5: 2.5000e-04 - precision_5: 0.3636WARNING:tensorflow:Early stopping conditioned on metric `val_acc` which is not available. Available metrics are: loss,accuracy,recall_5,precision_5\n",
      "500/500 [==============================] - 218s 435ms/step - loss: 3.0856 - accuracy: 0.0919 - recall_5: 2.5000e-04 - precision_5: 0.3636\n"
     ]
    }
   ],
   "source": [
    "#build the Resnet model \n",
    "resnet = ResNet50(weights='imagenet',\n",
    "                      input_shape= (100,100,3),\n",
    "                      include_top= False)  \n",
    "\n",
    "\n",
    "#show how manay layers in the Resnet Network\n",
    "layers = resnet.layers\n",
    "\n",
    "# early stopping \n",
    "callbacks = EarlyStopping(patience = 3, monitor='val_acc')\n",
    "                        \n",
    "# let's train our Model \n",
    "inputs = resnet.input\n",
    "# add an average pooling layer\n",
    "x = resnet.output\n",
    "x = GlobalAveragePooling2D()(x)\n",
    "#first dense layer\n",
    "x = Dense(512, activation='relu')(x)\n",
    "#dropout \n",
    "x = Dropout(0.5)(x)\n",
    "# output layer\n",
    "outputs = Dense(25, activation ='softmax')(x)\n",
    "# this is the model we will train\n",
    "model = Model(inputs=inputs, outputs=outputs)\n",
    "\n",
    "# freeze all convolutional Resnet layers\n",
    "for layer in layers:\n",
    "    layer.trainable = False\n",
    "# compile the model \n",
    "model.compile(optimizer=Adam(lr=0.001),\n",
    "              loss='categorical_crossentropy',\n",
    "              metrics=[\"accuracy\",tf.keras.metrics.Recall(),tf.keras.metrics.Precision()])\n",
    "# train the model on the new data for a few epochs\n",
    "history = model.fit(train_images,train_labels_new,epochs= 25,\n",
    "    callbacks = [callbacks])"
   ]
  },
  {
   "cell_type": "code",
   "execution_count": 40,
   "id": "143f29c1",
   "metadata": {},
   "outputs": [],
   "source": [
    "model.save('D:/resnet50.h5')"
   ]
  },
  {
   "cell_type": "code",
   "execution_count": 9,
   "id": "182ce7d0",
   "metadata": {},
   "outputs": [],
   "source": [
    "# import tensorflow as tf\n",
    "# from tensorflow.keras.preprocessing.image import ImageDataGenerator\n",
    "# from tensorflow.keras.applications.inception_v3 import InceptionV3\n",
    "# from tensorflow.keras.layers import Dense, Dropout, BatchNormalization\n",
    "# from tensorflow.keras.models import Model\n",
    "# from tensorflow.keras.optimizers import Adam\n",
    "# from tensorflow.keras.preprocessing import image\n",
    "# # load pre-trained InceptionV3\n",
    "# pre_trained = InceptionV3(weights='imagenet', input_shape=(64,64,3), pooling='avg')\n",
    "# train_features = pre_trained.predict(train_images)\n",
    "# test_features = pre_trained.predict(test_images)\n"
   ]
  },
  {
   "cell_type": "markdown",
   "id": "bed6cdcb",
   "metadata": {},
   "source": [
    "## Model 5 Mobilenetv2"
   ]
  },
  {
   "cell_type": "code",
   "execution_count": 16,
   "id": "3316b4ac",
   "metadata": {
    "scrolled": true
   },
   "outputs": [
    {
     "name": "stdout",
     "output_type": "stream",
     "text": [
      "WARNING:tensorflow:`input_shape` is undefined or non-square, or `rows` is not in [96, 128, 160, 192, 224]. Weights for input shape (224, 224) will be loaded as the default.\n",
      "[INFO] training ...\n",
      "Epoch 1/25\n",
      "500/500 [==============================] - 92s 176ms/step - loss: 2.7529 - accuracy: 0.2450 - recall_3: 0.1299 - precision_3: 0.7700\n",
      "Epoch 2/25\n",
      "500/500 [==============================] - 89s 178ms/step - loss: 2.2059 - accuracy: 0.3950 - recall_3: 0.2692 - precision_3: 0.8179\n",
      "Epoch 3/25\n",
      "500/500 [==============================] - 89s 178ms/step - loss: 1.9151 - accuracy: 0.4692 - recall_3: 0.3446 - precision_3: 0.8409\n",
      "Epoch 4/25\n",
      "500/500 [==============================] - 92s 184ms/step - loss: 1.6859 - accuracy: 0.5292 - recall_3: 0.3992 - precision_3: 0.8544\n",
      "Epoch 5/25\n",
      "500/500 [==============================] - 90s 181ms/step - loss: 1.5281 - accuracy: 0.5675 - recall_3: 0.4420 - precision_3: 0.8604\n",
      "Epoch 6/25\n",
      "500/500 [==============================] - 91s 183ms/step - loss: 1.3867 - accuracy: 0.6108 - recall_3: 0.4883 - precision_3: 0.8721\n",
      "Epoch 7/25\n",
      "500/500 [==============================] - 88s 176ms/step - loss: 1.2755 - accuracy: 0.6411 - recall_3: 0.5178 - precision_3: 0.8729\n",
      "Epoch 8/25\n",
      "500/500 [==============================] - 93s 187ms/step - loss: 1.1942 - accuracy: 0.6610 - recall_3: 0.5460 - precision_3: 0.8800\n",
      "Epoch 9/25\n",
      "500/500 [==============================] - 91s 182ms/step - loss: 1.0926 - accuracy: 0.6919 - recall_3: 0.5794 - precision_3: 0.8842\n",
      "Epoch 10/25\n",
      "500/500 [==============================] - 91s 183ms/step - loss: 1.0156 - accuracy: 0.7144 - recall_3: 0.6086 - precision_3: 0.8949\n",
      "Epoch 11/25\n",
      "500/500 [==============================] - 89s 179ms/step - loss: 0.9379 - accuracy: 0.7369 - recall_3: 0.6401 - precision_3: 0.8979\n",
      "Epoch 12/25\n",
      "500/500 [==============================] - 88s 176ms/step - loss: 0.8821 - accuracy: 0.7540 - recall_3: 0.6591 - precision_3: 0.9017\n",
      "Epoch 13/25\n",
      "500/500 [==============================] - 89s 177ms/step - loss: 0.8166 - accuracy: 0.7682 - recall_3: 0.6839 - precision_3: 0.9055\n",
      "Epoch 14/25\n",
      "500/500 [==============================] - 75s 151ms/step - loss: 0.7784 - accuracy: 0.7807 - recall_3: 0.6999 - precision_3: 0.9063\n",
      "Epoch 15/25\n",
      "500/500 [==============================] - 78s 156ms/step - loss: 0.7166 - accuracy: 0.7909 - recall_3: 0.7182 - precision_3: 0.9116\n",
      "Epoch 16/25\n",
      "500/500 [==============================] - 83s 166ms/step - loss: 0.6573 - accuracy: 0.8115 - recall_3: 0.7487 - precision_3: 0.9186\n",
      "Epoch 17/25\n",
      "500/500 [==============================] - 82s 163ms/step - loss: 0.6208 - accuracy: 0.8220 - recall_3: 0.7581 - precision_3: 0.9242\n",
      "Epoch 18/25\n",
      "500/500 [==============================] - 78s 155ms/step - loss: 0.6010 - accuracy: 0.8338 - recall_3: 0.7721 - precision_3: 0.9250\n",
      "Epoch 19/25\n",
      "500/500 [==============================] - 81s 161ms/step - loss: 0.5729 - accuracy: 0.8369 - recall_3: 0.7803 - precision_3: 0.9255\n",
      "Epoch 20/25\n",
      "500/500 [==============================] - 79s 157ms/step - loss: 0.5339 - accuracy: 0.8503 - recall_3: 0.7956 - precision_3: 0.9299\n",
      "Epoch 21/25\n",
      "500/500 [==============================] - 80s 160ms/step - loss: 0.5109 - accuracy: 0.8602 - recall_3: 0.8109 - precision_3: 0.9330\n",
      "Epoch 22/25\n",
      "500/500 [==============================] - 79s 158ms/step - loss: 0.4972 - accuracy: 0.8614 - recall_3: 0.8146 - precision_3: 0.9343\n",
      "Epoch 23/25\n",
      "500/500 [==============================] - 80s 159ms/step - loss: 0.4702 - accuracy: 0.8664 - recall_3: 0.8234 - precision_3: 0.9351\n",
      "Epoch 24/25\n",
      "500/500 [==============================] - 79s 157ms/step - loss: 0.4621 - accuracy: 0.8733 - recall_3: 0.8320 - precision_3: 0.9383\n",
      "Epoch 25/25\n",
      "500/500 [==============================] - 76s 153ms/step - loss: 0.4330 - accuracy: 0.8789 - recall_3: 0.8383 - precision_3: 0.9397\n"
     ]
    }
   ],
   "source": [
    "from tensorflow.keras.applications import MobileNetV2\n",
    "from keras.utils import to_categorical\n",
    "\n",
    "def MobileNetV2_model(learning_rate, input_shape):\n",
    "    baseModel = MobileNetV2(include_top=False, input_tensor=Input(shape=(100,100,3)))\n",
    "    for layer in baseModel.layers[:-4]:\n",
    "        layer.trainable = False\n",
    "   \n",
    "    model = Sequential()\n",
    "    model.add(baseModel)\n",
    "    model.add(AveragePooling2D(pool_size=(2, 2)))\n",
    "    model.add(Flatten())\n",
    "    model.add(Dense(512, activation=\"relu\"))\n",
    "    model.add(Dropout(0.5))\n",
    "    model.add(Dense(50, activation=\"relu\"))\n",
    "    model.add(Dropout(0.5))\n",
    "    model.add(Dense(25, activation='softmax'))\n",
    "\n",
    "    return model\n",
    "\n",
    "\n",
    "one_hot_label = to_categorical(train_labels)\n",
    "\n",
    "bs = 32\n",
    "lr = 0.0001\n",
    "shape  =(64,64, 3)\n",
    "size = (128, 128)\n",
    "model = MobileNetV2_model(lr,shape)\n",
    "model.compile(loss= \"categorical_crossentropy\", metrics=[\"accuracy\",tf.keras.metrics.Recall(),tf.keras.metrics.Precision()], optimizer=\"adam\")\n",
    "print(\"[INFO] training ...\")\n",
    "history = model.fit(train_images,one_hot_label,epochs=25)"
   ]
  },
  {
   "cell_type": "code",
   "execution_count": null,
   "id": "0c7f3a64",
   "metadata": {},
   "outputs": [],
   "source": [
    "#model.save('cnn.h5')"
   ]
  },
  {
   "cell_type": "code",
   "execution_count": 18,
   "id": "e9472478",
   "metadata": {},
   "outputs": [
    {
     "name": "stdout",
     "output_type": "stream",
     "text": [
      "47/47 [==============================] - 7s 118ms/step\n"
     ]
    }
   ],
   "source": [
    "# Define the path to the test images\n",
    "test_path = 'D:/sml_kaggle2/SML_Test/'\n",
    "\n",
    "# Get a list of all image file names in the directory\n",
    "image_files = os.listdir(test_path)\n",
    "\n",
    "# Sort the list of image file names in ascending order\n",
    "image_files.sort(key=lambda x: int(x.split('.')[0].split('_')[1]))\n",
    "\n",
    "# Load the test images into a NumPy array\n",
    "test_images = []\n",
    "for file in image_files:\n",
    "    image = Image.open(os.path.join(test_path, file))\n",
    "    newsize=(100,100)\n",
    "    image = image.resize(newsize)\n",
    "    image_array = np.array(image)\n",
    "    test_images.append(image_array)\n",
    "test_images = np.array(test_images)\n",
    "\n",
    "# Normalize the pixel values to be between 0 and 1\n",
    "test_images = test_images / 255.0\n",
    "\n",
    "# Predict the labels of the test images using the trained model\n",
    "predictions = model.predict(test_images)\n",
    "pred_labels = np.argmax(predictions, axis=1)\n",
    "\n",
    "# Create DataFrame with image ids and predicted labels\n",
    "image_ids = [file for file in image_files]\n",
    "results_df = pd.DataFrame({'id': image_ids, 'category': pred_labels})\n",
    "\n",
    "# Save results to CSV file\n",
    "results_df.to_csv('D:/mt21119_mobilenet.csv', index=False)"
   ]
  },
  {
   "cell_type": "code",
   "execution_count": 44,
   "id": "57369e08",
   "metadata": {},
   "outputs": [
    {
     "name": "stdout",
     "output_type": "stream",
     "text": [
      "WARNING:tensorflow:`input_shape` is undefined or non-square, or `rows` is not in [96, 128, 160, 192, 224]. Weights for input shape (224, 224) will be loaded as the default.\n",
      "[INFO] training ...\n",
      "Epoch 1/25\n",
      "500/500 [==============================] - 74s 143ms/step - loss: 2.6807 - accuracy: 0.2494 - recall_7: 0.1449 - precision_7: 0.7722\n",
      "Epoch 2/25\n",
      "500/500 [==============================] - 73s 145ms/step - loss: 2.1488 - accuracy: 0.4059 - recall_7: 0.2860 - precision_7: 0.8302\n",
      "Epoch 3/25\n",
      "500/500 [==============================] - 73s 146ms/step - loss: 1.8501 - accuracy: 0.4867 - recall_7: 0.3531 - precision_7: 0.8320\n",
      "Epoch 4/25\n",
      "500/500 [==============================] - 73s 146ms/step - loss: 1.6580 - accuracy: 0.5433 - recall_7: 0.4054 - precision_7: 0.8470\n",
      "Epoch 5/25\n",
      "500/500 [==============================] - 73s 147ms/step - loss: 1.4780 - accuracy: 0.5834 - recall_7: 0.4532 - precision_7: 0.8492\n",
      "Epoch 6/25\n",
      "500/500 [==============================] - 74s 147ms/step - loss: 1.3228 - accuracy: 0.6271 - recall_7: 0.4991 - precision_7: 0.8668\n",
      "Epoch 7/25\n",
      "500/500 [==============================] - 73s 147ms/step - loss: 1.2267 - accuracy: 0.6513 - recall_7: 0.5324 - precision_7: 0.8713\n",
      "Epoch 8/25\n",
      "500/500 [==============================] - 73s 147ms/step - loss: 1.1317 - accuracy: 0.6837 - recall_7: 0.5689 - precision_7: 0.8791\n",
      "Epoch 9/25\n",
      "500/500 [==============================] - 74s 147ms/step - loss: 1.0511 - accuracy: 0.7049 - recall_7: 0.5928 - precision_7: 0.8851\n",
      "Epoch 10/25\n",
      "500/500 [==============================] - 74s 147ms/step - loss: 0.9537 - accuracy: 0.7324 - recall_7: 0.6313 - precision_7: 0.8963\n",
      "Epoch 11/25\n",
      "500/500 [==============================] - 73s 147ms/step - loss: 0.8982 - accuracy: 0.7464 - recall_7: 0.6526 - precision_7: 0.8978\n",
      "Epoch 12/25\n",
      "500/500 [==============================] - 74s 147ms/step - loss: 0.8372 - accuracy: 0.7639 - recall_7: 0.6773 - precision_7: 0.9000\n",
      "Epoch 13/25\n",
      "500/500 [==============================] - 74s 147ms/step - loss: 0.7782 - accuracy: 0.7798 - recall_7: 0.6984 - precision_7: 0.9065\n",
      "Epoch 14/25\n",
      "500/500 [==============================] - 74s 148ms/step - loss: 0.7275 - accuracy: 0.7969 - recall_7: 0.7220 - precision_7: 0.9167\n",
      "Epoch 15/25\n",
      "500/500 [==============================] - 74s 148ms/step - loss: 0.6716 - accuracy: 0.8095 - recall_7: 0.7395 - precision_7: 0.9189\n",
      "Epoch 16/25\n",
      "500/500 [==============================] - 74s 147ms/step - loss: 0.6595 - accuracy: 0.8189 - recall_7: 0.7536 - precision_7: 0.9195\n",
      "Epoch 17/25\n",
      "500/500 [==============================] - 74s 148ms/step - loss: 0.6269 - accuracy: 0.8269 - recall_7: 0.7652 - precision_7: 0.9221\n",
      "Epoch 18/25\n",
      "500/500 [==============================] - 74s 148ms/step - loss: 0.5736 - accuracy: 0.8429 - recall_7: 0.7867 - precision_7: 0.9282\n",
      "Epoch 19/25\n",
      "500/500 [==============================] - 74s 148ms/step - loss: 0.5451 - accuracy: 0.8497 - recall_7: 0.7972 - precision_7: 0.9292\n",
      "Epoch 20/25\n",
      "500/500 [==============================] - 78s 155ms/step - loss: 0.5180 - accuracy: 0.8531 - recall_7: 0.8039 - precision_7: 0.9283\n",
      "Epoch 21/25\n",
      "500/500 [==============================] - 77s 154ms/step - loss: 0.5132 - accuracy: 0.8589 - recall_7: 0.8144 - precision_7: 0.9358\n",
      "Epoch 22/25\n",
      "500/500 [==============================] - 74s 148ms/step - loss: 0.4807 - accuracy: 0.8694 - recall_7: 0.8247 - precision_7: 0.9400\n",
      "Epoch 23/25\n",
      "500/500 [==============================] - 74s 148ms/step - loss: 0.4682 - accuracy: 0.8724 - recall_7: 0.8291 - precision_7: 0.9387\n",
      "Epoch 24/25\n",
      "500/500 [==============================] - 75s 150ms/step - loss: 0.4412 - accuracy: 0.8785 - recall_7: 0.8403 - precision_7: 0.9405\n",
      "Epoch 25/25\n",
      "500/500 [==============================] - 74s 149ms/step - loss: 0.4292 - accuracy: 0.8815 - recall_7: 0.8447 - precision_7: 0.9427\n"
     ]
    }
   ],
   "source": [
    "from tensorflow.keras.applications import MobileNetV2\n",
    "from keras.utils import to_categorical\n",
    "\n",
    "def MobileNetV2_model(learning_rate, input_shape):\n",
    "    baseModel = MobileNetV2(include_top=False, input_tensor=Input(shape=(100,100,3)))\n",
    "    for layer in baseModel.layers[:-4]:\n",
    "        layer.trainable = False\n",
    "   \n",
    "    model = Sequential()\n",
    "    model.add(baseModel)\n",
    "    model.add(AveragePooling2D(pool_size=(2, 2)))\n",
    "    model.add(Flatten())\n",
    "    model.add(Dense(512, activation=\"relu\"))\n",
    "    model.add(Dropout(0.5))\n",
    "    model.add(Dense(50, activation=\"relu\"))\n",
    "    model.add(Dropout(0.5))\n",
    "    model.add(Dense(25, activation='softmax'))\n",
    "\n",
    "    return model\n",
    "\n",
    "\n",
    "one_hot_label = to_categorical(train_labels)\n",
    "\n",
    "bs = 32\n",
    "lr = 0.001\n",
    "shape  =(64,64, 3)\n",
    "size = (128, 128)\n",
    "model = MobileNetV2_model(lr,shape)\n",
    "model.compile(loss= \"categorical_crossentropy\", metrics=[\"accuracy\",tf.keras.metrics.Recall(),tf.keras.metrics.Precision()], optimizer=\"adam\")\n",
    "print(\"[INFO] training ...\")\n",
    "history = model.fit(train_images,one_hot_label,epochs=25)"
   ]
  },
  {
   "cell_type": "code",
   "execution_count": 42,
   "id": "bf941c1c",
   "metadata": {},
   "outputs": [],
   "source": [
    "model.save('D:/mobilenet.h5')"
   ]
  },
  {
   "cell_type": "code",
   "execution_count": 45,
   "id": "fec18e32",
   "metadata": {},
   "outputs": [
    {
     "name": "stdout",
     "output_type": "stream",
     "text": [
      "47/47 [==============================] - 9s 164ms/step\n"
     ]
    }
   ],
   "source": [
    "# Define the path to the test images\n",
    "test_path = 'D:/sml_kaggle2/SML_Test/'\n",
    "\n",
    "# Get a list of all image file names in the directory\n",
    "image_files = os.listdir(test_path)\n",
    "\n",
    "# Sort the list of image file names in ascending order\n",
    "image_files.sort(key=lambda x: int(x.split('.')[0].split('_')[1]))\n",
    "\n",
    "# Load the test images into a NumPy array\n",
    "test_images = []\n",
    "for file in image_files:\n",
    "    image = Image.open(os.path.join(test_path, file))\n",
    "    newsize=(100,100)\n",
    "    image = image.resize(newsize)\n",
    "    image_array = np.array(image)\n",
    "    test_images.append(image_array)\n",
    "test_images = np.array(test_images)\n",
    "\n",
    "# Normalize the pixel values to be between 0 and 1\n",
    "test_images = test_images / 255.0\n",
    "\n",
    "# Predict the labels of the test images using the trained model\n",
    "predictions = model.predict(test_images)\n",
    "pred_labels = np.argmax(predictions, axis=1)\n",
    "\n",
    "# Create DataFrame with image ids and predicted labels\n",
    "image_ids = [file for file in image_files]\n",
    "results_df = pd.DataFrame({'id': image_ids, 'category': pred_labels})\n",
    "\n",
    "# Save results to CSV file\n",
    "results_df.to_csv('D:/mt21119_mobilenet2.csv', index=False)"
   ]
  },
  {
   "cell_type": "code",
   "execution_count": null,
   "id": "fc39df8e",
   "metadata": {},
   "outputs": [],
   "source": []
  }
 ],
 "metadata": {
  "kernelspec": {
   "display_name": "Python 3 (ipykernel)",
   "language": "python",
   "name": "python3"
  },
  "language_info": {
   "codemirror_mode": {
    "name": "ipython",
    "version": 3
   },
   "file_extension": ".py",
   "mimetype": "text/x-python",
   "name": "python",
   "nbconvert_exporter": "python",
   "pygments_lexer": "ipython3",
   "version": "3.9.12"
  }
 },
 "nbformat": 4,
 "nbformat_minor": 5
}
